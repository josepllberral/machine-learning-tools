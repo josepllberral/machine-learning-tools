{
 "cells": [
  {
   "cell_type": "markdown",
   "metadata": {},
   "source": [
    "# Restricted Boltzmann Machines in R"
   ]
  },
  {
   "cell_type": "markdown",
   "metadata": {},
   "source": [
    "RBM training and testing algorithms, coded in plain R.\n",
    "\n",
    "Here you can find a Restricted Boltzmann Machines, implemented in R and in plain algorithm, for academic and educational purposes.\n",
    "\n",
    "@author Josep Ll. Berral (Barcelona Supercomputing Center)\n",
    "\n",
    "Inspired by the implementations from:\n",
    "* David Buchaca   : https://github.com/davidbp/connectionist\n",
    "* Andrew Landgraf : https://www.r-bloggers.com/restricted-boltzmann-machines-in-r/\n",
    "* Graham Taylor   : http://www.uoguelph.ca/~gwtaylor/\n",
    "\n",
    "Author of the snippet to load the MNIST example:\n",
    "* Brendan O'Connor https://gist.github.com/39760 - anyall.org\n",
    "\n",
    "Mocap data\n",
    "\n",
    "* R converted version: in datasets folder\n",
    "* Data originally from Yann LeCun's MNIST digit recognition dataset [MNIST Database](http://yann.lecun.com/exdb/mnist/)"
   ]
  },
  {
   "cell_type": "markdown",
   "metadata": {},
   "source": [
    "## GENERIC FUNCTIONS\n",
    "\n",
    "We use these functions for initializing matrices (we will initialize the weights matrix with random values), to do Bernoulli sampling when deciding the activation of the hidden layers, and to pass values through a sigmoid function (also when producing the activation outputs).\n",
    "\n",
    "* **sample_normal** : Generates a matrix of random normal values\n",
    "* **sample_bernoulli** : Generates a matrix of Bernoulli samples given a matrix of probabilities\n",
    "* **sigmoid_func** : Performs the sigmoid calculus over a matrix\n",
    "* **%+%** : Operator to sum a vector to a matrix by their coincident side (row checked before columm)"
   ]
  },
  {
   "cell_type": "code",
   "execution_count": 1,
   "metadata": {
    "collapsed": true
   },
   "outputs": [],
   "source": [
    "## Function to produce Normal Samples\n",
    "sample_normal <- function(dims, mean = 0, sd = 1)\n",
    "{\n",
    "    array(rnorm(n = prod(dims), mean = mean, sd = sd), dims);\n",
    "}\n",
    "\n",
    "## Function to produce Bernoulli Samples\n",
    "sample_bernoulli <- function(mat)\n",
    "{\n",
    "    dims <- dim(mat);\n",
    "    array(rbinom(n = prod(dims), size = 1, prob = c(mat)), dims);\n",
    "}\n",
    "\n",
    "## Function to produce the Sigmoid\n",
    "sigmoid_func <- function(mat)\n",
    "{\n",
    "    1 / (1 + exp(-mat));\n",
    "}\n",
    "\n",
    "## Operator to add dimension-wise vectors to matrices\n",
    "`%+%` <- function(mat, vec)\n",
    "{\n",
    "    retval <- NULL;\n",
    "    tryCatch(\n",
    "        expr = { retval <- if (dim(mat)[1] == length(vec)) t(t(mat) + vec) else mat + vec; },\n",
    "        warning = function(w) { print(paste(\"WARNING: \", w, sep = \"\")); },\n",
    "        error = function(e) { print(paste(\"ERROR: Cannot sum mat and vec\", e, sep = \"\\n\")); }\n",
    "    );\n",
    "    retval;\n",
    "}"
   ]
  },
  {
   "cell_type": "markdown",
   "metadata": {},
   "source": [
    "## RBM Functions\n",
    "\n",
    "Functions for creating and operating RBMs:\n",
    "\n",
    "* **create_rbm**: The constructor function\n",
    "* **sample_h_given_v_rbm**: Activation function given input\n",
    "* **sample_v_given_h_rbm**: Reconstruction function given activations\n",
    "* **get_cost_updates_rbm**: One step of Contrastive Divergence (CD-k) process updating the CRBM"
   ]
  },
  {
   "cell_type": "markdown",
   "metadata": {},
   "source": [
    "### Constructor of the RBM\n",
    "\n",
    "This is the **constructor** of the RBM. This will initialize the RBM with random and blank values, or with introduced parameters. If we want to create a new RBM, we skip passing parameters to have a brand new initialized RBM. If we want to reassemble a former RBM from its weights matrices and bias vectors, we pass them as parameters.\n",
    "\n",
    "The principal elements of the RBM are:\n",
    "* **W** : The weight matrix between Visble Input and Hidden Units\n",
    "* **hbias** : The hidden bias.\n",
    "* **vbias** : The visible bias.\n",
    "\n",
    "The RBM produces Hidden Unit activations from Visible Inputs through $(vis \\cdot W + hbias)$, and reconstructs the Visible Units from Hidden activations through $(hid \\cdot W^{T} + vbias)$. This way, Visible Inputs go through the \"network\" producing activations, and activations can be passed back through the \"network\" to reconstruct the Inputs. The difference between real Inputs and reconstructed Inputs are the _error_ or _loss_.\n",
    "\n",
    "#### Dimension and purpose of Matrices\n",
    "\n",
    "The matrix **W**, and vectors **hbias** and **vbias** will be initialized as random or just blank, and modified using the **Gradient Descent** technique with to the obtained loss at each iteration.\n",
    "\n",
    "Input comes from Visible Units (the input has _nvis_ features at time _t_), so **Input** is a matrix $1 \\times nvis$. As we can put data in batches, the **Input** becomes $batch\\_size \\times nvis$.\n",
    "\n",
    "The Output (the hidden units) will be then a matrix with the number of hidden units for each element of the batch. So **Activations** will be a matrix $batch\\_size \\times nhid$.\n",
    "\n",
    "Then, **W** transforms **Input** into **Activations**, so **W** is a matrix shaped as $nvis \\times nhid$. Not to say that transposing **W** will allow us to transform **Activations** into **Inputs**.\n",
    "\n",
    "Summary of Matrices:\n",
    "* **Input** : $batch\\_size \\times nvis$\n",
    "* **W** : $nvis \\times nhid$\n",
    "* **Activations** : $batch\\_size \\times nhid$\n",
    "\n",
    "#### Dimension of bias Vectors\n",
    "\n",
    "Further, when obtaining the **Activations**, we should add the bias for each feature in the obtained activation. Then **hbias** has to be a vector of size $nhid$. R allows us to add a vector repeatedly to all the rows of a matrix. If we couldn't, **hbias** should become a matrix of the same vector, repeated $batch\\_size$ times.\n",
    "\n",
    "The same happens when reconstructing the **Input** from **Activations**. A **vbias** vector, of size $nvis$ must be added to the resulting reconstruction."
   ]
  },
  {
   "cell_type": "code",
   "execution_count": 2,
   "metadata": {
    "collapsed": true
   },
   "outputs": [],
   "source": [
    "## Restricted Boltzmann Machine (RBM). Constructor\n",
    "create_rbm <- function (n_visible = 10, n_hidden = 100, W = NULL, hbias = NULL,\n",
    "                        vbias = NULL, batch_size = 100)\n",
    "{\n",
    "    if (is.null(W)) W <- 0.01 * sample_normal(c(n_visible, n_hidden));\n",
    "    if (is.null(hbias)) hbias <- rep(0, n_hidden);\n",
    "    if (is.null(vbias)) vbias <- rep(0, n_visible);\n",
    "    \n",
    "    velocity <- list(W = array(0, dim(W)), v = rep(0, length(vbias)), h = rep(0, length(hbias)));\n",
    "    \n",
    "    list(n_visible = n_visible, n_hidden = n_hidden, W = W, hbias = hbias,\n",
    "         vbias = vbias, velocity = velocity, batch_size = batch_size);\n",
    "}"
   ]
  },
  {
   "cell_type": "markdown",
   "metadata": {},
   "source": [
    "### Forward and Backward Functions\n",
    "\n",
    "The next couple of functions implement the generation of hidden unit activations given visible values, and reconstruction of visible values from hidden activations. The learning process will use these functions to pass visible values forward and backward, to check the loss and gradients of the activation-reconstruction process.\n",
    "\n",
    "#### Forwarding Inputs to Hidden Units\n",
    "\n",
    "As said before, activation (or forwarding) is done by passing inputs towards the hidden units. The transformation is done using **Input** through **W** (and **hbias**), obtaining **Activations**.\n",
    "\n",
    "$$pre\\_activations = input \\cdot W + hbias$$\n",
    "\n",
    "In order to correctly produce the activations, we should pass them through a sigmoid function [TODO - Explain details and reasoning for this step].\n",
    "\n",
    "$$mean\\_activations = sigmoid(pre\\_activations)$$\n",
    "\n",
    "And finally, instead of having for each unit its mean of activations, we may generate a sample of \"fully activated\" and \"fully deactivated\" hidden units, by performing a bernoully sampling. This way, each $mean\\_activation$ is used as the probability of whether the hidden unit is activated or not. The result is a fully binarized activations, conditioned to the probability of each unit to become activated or not (the \"expected activation\" that we obtained through the \"mean activation\").\n",
    "\n",
    "$$sample\\_activations = bernoully(mean\\_activations)$$\n",
    "\n",
    "#### Backwarding Activations to Visible Units\n",
    "\n",
    "When we have the activations for a given batch of input data, we can perform the reconstruction (backward) process, by passing the activations towards the input data. The transformation is done using **Activations** through **t(W)** (and **vbias**), obtaining **~Input**.\n",
    "\n",
    "$$mean\\_reconstruction = activation \\cdot W^{T} + vbias$$\n",
    "\n",
    "Also, we don't need any sampling here, as we are deciding that:\n",
    "\n",
    "$$sample\\_reconstruction = mean\\_reconstruction$$"
   ]
  },
  {
   "cell_type": "code",
   "execution_count": 3,
   "metadata": {
    "collapsed": true
   },
   "outputs": [],
   "source": [
    "### This function infers state of hidden units given visible units\n",
    "visible_state_to_hidden_probabilities <- function(rbm, visible_state)\n",
    "{\n",
    "    h.mean <- sigmoid_func((visible_state %*% rbm$W) %+% rbm$hbias);\n",
    "    h.sample <- sample_bernoulli(h.mean);\n",
    "\n",
    "    list(mean = h.mean, sample = h.sample);\n",
    "}\n",
    "\n",
    "## This function infers state of visible units given hidden units\n",
    "hidden_state_to_visible_probabilities <- function(rbm, hidden_state)\n",
    "{\n",
    "    v.mean <- (hidden_state %*% t(rbm$W)) %+% rbm$vbias;\n",
    "    v.sample <- v.mean;\n",
    "\n",
    "    list(mean = v.mean, sample = v.sample);\n",
    "}"
   ]
  },
  {
   "cell_type": "markdown",
   "metadata": {},
   "source": [
    "### Iterate over inputs to get Cost and Gradients\n",
    "\n",
    "The \"forward - backward\" process must be done iteratively, in order to see how our matrix **W** (also bias vectors **hbias** and **vbias**) degrade our input after repeated \"activation - reconstruction\" processes. This is done using the **Contrastive Divergence** method, where we perform this process $k$ times, and then we compute the **Gradient Descent**.\n",
    "\n",
    "#### Obtaining the Gradients\n",
    "The process performs a **positive phase**, where a forward is performed. Then we iterate \"backward - forward\" (**negative phase**) $k$ times.\n",
    "\n",
    "The key elements at the end of the process are:\n",
    "* The Input, as the data we want to reconstruct\n",
    "* The \"Positive\" Activations, as the activations we get directly, before iterating.\n",
    "* The \"Negative\" Activations, as the final activations we obtain after iterating.\n",
    "* The \"Negative\" Reconstruction, as the final values we obtain when reconstructing the input from the last activation.\n",
    "\n",
    "Gradients are computed for each Matrix, as follows:\n",
    "* **grad_W** : $\\Delta W = input^{T} \\cdot (positive)mean\\_activation - (negative)mean\\_reconstruction^{T} \\cdot (negative)mean\\_activation$\n",
    "* **grad_vbias** : $\\Delta vbias = colSum(input \\cdot (negative)mean\\_reconstruction)$\n",
    "* **grad_hbias** : $\\Delta hbias = colSum((positive)mean\\_activation \\cdot (negative)mean\\_activation)$\n",
    "\n",
    "Remember that all deltas must be scaled by the **learning rate**, and the **batch size**. Also, we can decide whether to add an **inertia** factor (or **momentum**), by storing the gradient and using it in the next iteration within a certain weight. Finally, we add the gradients to our matrices and vectors.\n",
    "\n",
    "#### Reconstruction Error (Cost)\n",
    "\n",
    "Computing the reconstruction error allows us to know how well our training is improving epoch after epoch. Here we compute the **cost** as\n",
    "\n",
    "$$cost = \\frac{\\sum_{i = 1}^{ncols} \\sum_{j = 1}^{nrows} (input - (negative)mean\\_reconstruction)^2}{ncols}$$\n",
    "\n",
    "or what is the same, the mean error between the inputs and the last reconstruction."
   ]
  },
  {
   "cell_type": "code",
   "execution_count": 4,
   "metadata": {
    "collapsed": true
   },
   "outputs": [],
   "source": [
    "## This functions implements one step of CD-k\n",
    "##  param input: matrix input from batch data (n_seq x n_vis)\n",
    "##  param lr: learning rate used to train the RBM\n",
    "##  param k: number of Gibbs steps to do in CD-k\n",
    "##  param momentum: value for momentum coefficient on learning\n",
    "cdk_rbm <- function(rbm, input, lr, k = 1, momentum = 0.1)\n",
    "{  \n",
    "    # compute positive phase (awake)\n",
    "    ph <- visible_state_to_hidden_probabilities(rbm, input);\n",
    "\n",
    "    # perform negative phase (asleep)\n",
    "    nh <- ph;\n",
    "    for (i in 1:k)\n",
    "    {\n",
    "        nv <- hidden_state_to_visible_probabilities(rbm, nh[[\"sample\"]]);\n",
    "        nh <- visible_state_to_hidden_probabilities(rbm, nv[[\"sample\"]]);\n",
    "    }\n",
    "\n",
    "    # determine gradients on RBM parameters\n",
    "    Delta_W <- t(input) %*% ph[[\"mean\"]] - t(nv[[\"sample\"]]) %*% nh[[\"mean\"]];\n",
    "    Delta_v <- colSums(input - nv[[\"sample\"]]);\n",
    "    Delta_h <- colSums(ph[[\"mean\"]] - nh[[\"mean\"]]);\n",
    "    \n",
    "    rbm$velocity[[\"W\"]] <- rbm$velocity[[\"W\"]] * momentum + lr * Delta_W / rbm$batch_size;\n",
    "    rbm$velocity[[\"v\"]] <- rbm$velocity[[\"v\"]] * momentum + lr * Delta_v / rbm$batch_size;\n",
    "    rbm$velocity[[\"h\"]] <- rbm$velocity[[\"h\"]] * momentum + lr * Delta_h / rbm$batch_size;\n",
    "    \n",
    "    # update weights\n",
    "    rbm$W <- rbm$W + rbm$velocity[[\"W\"]];\n",
    "    rbm$vbias <- rbm$vbias + rbm$velocity[[\"v\"]];\n",
    "    rbm$hbias <- rbm$hbias + rbm$velocity[[\"h\"]];\n",
    "\n",
    "    # approximation to the reconstruction error: sum over dimensions, mean over cases\n",
    "    list(rbm = rbm, recon = mean(rowSums(`^`(input - nv[[\"mean\"]],2))));\n",
    "}"
   ]
  },
  {
   "cell_type": "markdown",
   "metadata": {},
   "source": [
    "## How to train your RBM\n",
    "\n",
    "Functions to train a RBM from a loaded DataSet:\n",
    "\n",
    "* **train_rbm**: Creates and trains a RBM from a given dataset\n",
    "\n",
    "### Training the RBM\n",
    "\n",
    "This process implies getting batches of data, and passing them through the **Contrastive Divergence** process, seen before, until we reach a given number of **epochs**.\n",
    "\n",
    "We may decide that providing the data in the same order as we got (probably ordered in time for each sequence), may be dangerous for learning. We can shuffle the order in which we pick samples when building the batches.\n",
    "\n",
    "The return of the training is the RBM, or what is the same, the collection of weight matrices and vectors **W**, **hbias** and **vbias**."
   ]
  },
  {
   "cell_type": "code",
   "execution_count": 5,
   "metadata": {
    "collapsed": true
   },
   "outputs": [],
   "source": [
    "## Function to train the RBM\n",
    "##  param dataset: loaded dataset (rows = examples, cols = features)\n",
    "##  param learning_rate: learning rate used for training the RBM\n",
    "##  param training_epochs: number of epochs used for training\n",
    "##  param batch_size: size of a batch used to train the RBM\n",
    "train_rbm <- function (dataset, batch_size = 100, n_hidden = 100,\n",
    "        training_epochs = 300, learning_rate = 1e-4, momentum = 0.5,\n",
    "        rand_seed = 1234, init_W = NULL, init_hbias = NULL, init_vbias = NULL)\n",
    "{\n",
    "    set.seed(rand_seed);\n",
    "\n",
    "    n_train_batches <- ceiling(nrow(dataset) / batch_size);\n",
    "    n_dim <- ncol(dataset);\n",
    "      \n",
    "    # shuffle indices\n",
    "    permindex <- sample(1:nrow(dataset),nrow(dataset));\n",
    "\n",
    "    # construct the RBM object\n",
    "    rbm <- create_rbm(n_visible = n_dim, n_hidden = n_hidden, batch_size = batch_size,\n",
    "                      W = init_W, hbias = init_hbias, vbias = init_vbias);\n",
    "\n",
    "    start_time <- Sys.time();\n",
    " \n",
    "    # go through the training epochs and training set\n",
    "    for (epoch in 1:training_epochs)\n",
    "    {\n",
    "        mean_cost <- NULL;\n",
    "        for (batch_index in 1:n_train_batches)\n",
    "        {\n",
    "            idx.aux.ini <- (((batch_index - 1) * batch_size) + 1);\n",
    "            idx.aux.fin <- idx.aux.ini + batch_size - 1;\n",
    "            if (idx.aux.fin > length(permindex)) break;\n",
    "            data_idx <- permindex[idx.aux.ini:idx.aux.fin];\n",
    "\n",
    "            input <- dataset[data_idx,];\n",
    "                       \n",
    "            # get the cost and the gradient corresponding to one step of CD-k\n",
    "            aux <- cdk_rbm(rbm, input, lr = learning_rate, momentum = momentum, k = 1);\n",
    "            this_cost <- aux$recon;\n",
    "            rbm <- aux$rbm;\n",
    "\n",
    "            mean_cost <- c(mean_cost, this_cost);\n",
    "        }\n",
    "#       if (epoch %% 50 == 1)\n",
    "        print(paste('Training epoch ',epoch,', cost is ',mean(mean_cost, na.rm = TRUE),sep=\"\"));\n",
    "    }\n",
    "\n",
    "    end_time <- Sys.time();\n",
    "    print(paste('Training took', (end_time - start_time), sep=\" \"));\n",
    "\n",
    "    class(rbm) <- c(\"rbm\", class(rbm));\n",
    "    rbm;\n",
    "}"
   ]
  },
  {
   "cell_type": "markdown",
   "metadata": {},
   "source": [
    "## Predicting Values\n",
    "\n",
    "Functions to generate reduced codes using a RBM:\n",
    "\n",
    "* **predict_rbm** : Passes inputs through a RBM\n",
    "\n",
    "### Value Prediction\n",
    "\n",
    "When we predict values, we just apply the \"input to activation\" process, by performing a \"forward\" operation\n",
    "\n",
    "$$pre\\_activations = input \\cdot W + hbias$$\n",
    "$$mean\\_activations = sigmoid(pre\\_activations)$$\n",
    "\n",
    "Also here, we can decide to perform a **Gibbs sampling**, thats iterating the \"forward - backward\" process, to see which activations result after $k$ iterations (like we did in the **Contrastive Divergence** method).\n",
    "\n",
    "The outputs will be the encoded input. This will be useful, e.g., when we want to reduce dimensionality of our data, or when we want to expand the codification for feeding other networks.\n",
    "\n",
    "And in case that we perform the backward process, we will obtain the reconstruction according to the RBM. This will be useful, e.g., when the input data is noisy or faulty, and we would like to see whan the RBM considers the \"correct\" input.\n",
    "\n",
    "$$mean\\_reconstruction = activations \\cdot W^T + vbias$$"
   ]
  },
  {
   "cell_type": "code",
   "execution_count": 6,
   "metadata": {
    "collapsed": true
   },
   "outputs": [],
   "source": [
    "predict_rbm <- function(rbm, dataset)\n",
    "{\n",
    "    act.input <- sigmoid_func(dataset %*% rbm$W + rbm$hbias);\n",
    "    rec.input <- act.input %*% t(rbm$W) + rbm$vbias;\n",
    "    \n",
    "    list(activations = act.input, reconstruction = rec.input);\n",
    "}"
   ]
  },
  {
   "cell_type": "markdown",
   "metadata": {},
   "source": [
    "## An example: the MNIST dataset\n",
    "\n",
    "The MNIST is a classic dataset with handwritten digits for recognition, by Yann LeCun [here](http://yann.lecun.com/exdb/mnist/). This dataset comes with a training set and testing set, with 60000 and 10000 digits respectively, and their respective vectors indicating the true digit. Each digit is a 784 vector (forming a 28 x 28 image)."
   ]
  },
  {
   "cell_type": "markdown",
   "metadata": {},
   "source": [
    "In case you want to load the original dataset file from LeCun's [MNIST digit recognition dataset](http://yann.lecun.com/exdb/mnist/), you will find 4 files (training, test x data, labels). Here's an snippet from **Brendan O'Connor** [anyall.org](https://gist.github.com/39760) that you can use. For this you should download the dataset files and place in the \"datasets\" folder.\n",
    "\n",
    "Also, we have previously converted the dataset into a **mnist.rds**, already loaded and prepared.\n",
    "\n",
    "#### Normalization of data\n",
    "\n",
    "Note that after loading the MNIST, data must be normalized, with $min = 0$ and $max = 255$\n",
    "\n",
    "$$X = (X - min) / (max - min) \\rightarrow X = (X - 0) / (255 - 0) \\rightarrow X = X / 255$$\n",
    "\n",
    "This is already done in O'Connor snippet, but in the RDS file you must do it after loading."
   ]
  },
  {
   "cell_type": "code",
   "execution_count": 7,
   "metadata": {
    "collapsed": true
   },
   "outputs": [],
   "source": [
    "load_mnist <- function()\n",
    "{\n",
    "    train <- data.frame();\n",
    "    test <- data.frame();\n",
    "\n",
    "    load_image_file <- function(filename)\n",
    "    {\n",
    "        ret = list();\n",
    "        f = file(filename,'rb');\n",
    "        readBin(f,'integer',n=1,size=4,endian='big');\n",
    "        ret$n = readBin(f,'integer',n=1,size=4,endian='big');\n",
    "        nrow = readBin(f,'integer',n=1,size=4,endian='big');\n",
    "        ncol = readBin(f,'integer',n=1,size=4,endian='big');\n",
    "        x = readBin(f,'integer',n=ret$n*nrow*ncol,size=1,signed=F);\n",
    "        ret$x = matrix(x, ncol=nrow*ncol, byrow=T);\n",
    "        close(f);\n",
    "        ret;\n",
    "    }\n",
    "\n",
    "    load_label_file <- function(filename)\n",
    "    {\n",
    "        f = file(filename,'rb');\n",
    "        readBin(f,'integer',n=1,size=4,endian='big');\n",
    "        n = readBin(f,'integer',n=1,size=4,endian='big');\n",
    "        y = readBin(f,'integer',n=n,size=1,signed=F);\n",
    "        close(f);\n",
    "        y;\n",
    "    }\n",
    "\n",
    "    train <- load_image_file('../R tools/datasets/train-images.idx3-ubyte');\n",
    "    test <- load_image_file('../R tools/datasets/t10k-images.idx3-ubyte');\n",
    "\n",
    "    train$x <- train$x / 255;\n",
    "    test$x <- test$x / 255;\n",
    "\n",
    "    train_y <- load_label_file('../R tools/datasets/train-labels.idx1-ubyte');\n",
    "    test_y <- load_label_file('../R tools/datasets/t10k-labels.idx1-ubyte');\n",
    "\n",
    "    train_y <- as.factor(train_y);\n",
    "    test_y <- as.factor(test_y);\n",
    "\n",
    "    inTrain <- data.frame(y = train_y, train$x);\n",
    "    inTest <- data.frame(y = test_y, test$x);\n",
    "\n",
    "    list(train = inTrain, test = inTest);\n",
    "}\n",
    "\n",
    "#mnist <- load_mnist();\n",
    "#training_x <- mnist$train[,2:785];\n",
    "#training_y <- mnist$train[,1];\n",
    "#testing_x <- mnist$test[,2:785];\n",
    "#testing_y <- mnist$test[,1];"
   ]
  },
  {
   "cell_type": "markdown",
   "metadata": {},
   "source": [
    "We put here also a function to plot a digit, so we can see it here in the notebook"
   ]
  },
  {
   "cell_type": "code",
   "execution_count": 8,
   "metadata": {
    "collapsed": true
   },
   "outputs": [],
   "source": [
    "show_digit <- function(arr784, col=gray(12:1/12), ...)\n",
    "{\n",
    "    image(matrix(arr784, nrow=28)[,28:1], col=col, ...);\n",
    "}\n",
    "\n",
    "#show_digit(as.matrix(training_x[5,]))"
   ]
  },
  {
   "cell_type": "markdown",
   "metadata": {},
   "source": [
    "### Load data directly from RDS"
   ]
  },
  {
   "cell_type": "code",
   "execution_count": 9,
   "metadata": {
    "collapsed": false
   },
   "outputs": [],
   "source": [
    "mnist <- readRDS(\"../R tools/datasets/mnist.rds\");"
   ]
  },
  {
   "cell_type": "code",
   "execution_count": 10,
   "metadata": {
    "collapsed": false
   },
   "outputs": [
    {
     "name": "stdout",
     "output_type": "stream",
     "text": [
      "List of 2\n",
      " $ train:List of 3\n",
      "  ..$ n: int 60000\n",
      "  ..$ x: int [1:60000, 1:784] 0 0 0 0 0 0 0 0 0 0 ...\n",
      "  ..$ y: int [1:60000] 5 0 4 1 9 2 1 3 1 4 ...\n",
      " $ test :List of 3\n",
      "  ..$ n: int 10000\n",
      "  ..$ x: int [1:10000, 1:784] 0 0 0 0 0 0 0 0 0 0 ...\n",
      "  ..$ y: int [1:10000] 7 2 1 0 4 1 4 9 5 9 ...\n"
     ]
    }
   ],
   "source": [
    "str(mnist)"
   ]
  },
  {
   "cell_type": "code",
   "execution_count": 11,
   "metadata": {
    "collapsed": true
   },
   "outputs": [],
   "source": [
    "training_x <- mnist$train$x / 255;\n",
    "training_y <- mnist$train$y;\n",
    "testing_x <- mnist$test$x / 255;\n",
    "testing_y <- mnist$test$y;"
   ]
  },
  {
   "cell_type": "markdown",
   "metadata": {},
   "source": [
    "### Train a RBM with the MNIST dataset"
   ]
  },
  {
   "cell_type": "code",
   "execution_count": 12,
   "metadata": {
    "collapsed": false
   },
   "outputs": [
    {
     "name": "stdout",
     "output_type": "stream",
     "text": [
      "[1] \"Training epoch 1, cost is 50.8725711065174\"\n",
      "[1] \"Training epoch 2, cost is 41.8164077519245\"\n",
      "[1] \"Training epoch 3, cost is 38.1550195267321\"\n",
      "[1] \"Training epoch 4, cost is 36.9606999059824\"\n",
      "[1] \"Training epoch 5, cost is 36.4548446166587\"\n",
      "[1] \"Training took 30.9991886615753\"\n"
     ]
    }
   ],
   "source": [
    "rbm <- train_rbm(\n",
    "    n_hidden = 30,\n",
    "    dataset = training_x,\n",
    "    learning_rate = 1e-3,\n",
    "    training_epochs = 5,\n",
    "    batch_size = 10,\n",
    "    momentum = 0.01\n",
    ");"
   ]
  },
  {
   "cell_type": "code",
   "execution_count": 13,
   "metadata": {
    "collapsed": false
   },
   "outputs": [
    {
     "name": "stdout",
     "output_type": "stream",
     "text": [
      "List of 7\n",
      " $ n_visible : int 784\n",
      " $ n_hidden  : num 30\n",
      " $ W         : num [1:784, 1:30] 0.01334 0.00339 0.00644 0.01289 0.00752 ...\n",
      " $ hbias     : num [1:30] -0.56976 -0.49579 -0.00372 0.24307 -0.16864 ...\n",
      " $ vbias     : num [1:784] 0.004106 0.003085 -0.000526 0.001859 0.003139 ...\n",
      " $ velocity  :List of 3\n",
      "  ..$ W: num [1:784, 1:30] 3.53e-06 1.70e-08 2.11e-08 -3.31e-06 -8.20e-07 ...\n",
      "  ..$ v: num [1:784] 3.74e-06 -1.86e-06 1.00e-06 -4.12e-06 -8.74e-07 ...\n",
      "  ..$ h: num [1:30] -2.52e-05 -7.72e-06 -3.68e-06 -4.23e-05 -3.37e-05 ...\n",
      " $ batch_size: num 10\n",
      " - attr(*, \"class\")= chr [1:2] \"rbm\" \"list\"\n"
     ]
    }
   ],
   "source": [
    "str(rbm)"
   ]
  },
  {
   "cell_type": "markdown",
   "metadata": {},
   "source": [
    "### Display the learned results\n",
    "\n",
    "Using _ggplot2_ and _reshape2_ libraries now we can check the weights that our RBM has learned."
   ]
  },
  {
   "cell_type": "code",
   "execution_count": 14,
   "metadata": {
    "collapsed": false
   },
   "outputs": [
    {
     "name": "stderr",
     "output_type": "stream",
     "text": [
      "\n",
      "Attaching package: ‘ggplot2’\n",
      "\n",
      "The following object is masked _by_ ‘.GlobalEnv’:\n",
      "\n",
      "    %+%\n",
      "\n"
     ]
    }
   ],
   "source": [
    "library(ggplot2);\n",
    "library(reshape2);"
   ]
  },
  {
   "cell_type": "code",
   "execution_count": 15,
   "metadata": {
    "collapsed": true
   },
   "outputs": [],
   "source": [
    "weights <- t(rbm$W);\n",
    "colnames(weights) <-  NULL;\n",
    "mw <- melt(weights);"
   ]
  },
  {
   "cell_type": "code",
   "execution_count": 16,
   "metadata": {
    "collapsed": false
   },
   "outputs": [],
   "source": [
    "mw$Var3 <- floor((mw$Var2 - 1)/28) + 1;\n",
    "mw$Var2 <- (mw$Var2 - 1) %% 28 + 1;\n",
    "mw$Var3 <- 29 - mw$Var3;"
   ]
  },
  {
   "cell_type": "code",
   "execution_count": 17,
   "metadata": {
    "collapsed": false
   },
   "outputs": [
    {
     "data": {},
     "metadata": {},
     "output_type": "display_data"
    },
    {
     "data": {
      "image/png": "[encoded data removed]",
      "text/plain": [
       "plot without title"
      ]
     },
     "metadata": {},
     "output_type": "display_data"
    }
   ],
   "source": [
    "ggplot(data = mw) +\n",
    "geom_tile(aes(Var2, Var3, fill = value)) +\n",
    "facet_wrap(~Var1, nrow = 5) +\n",
    "scale_fill_continuous(low = 'white', high = 'black') +\n",
    "coord_equal() +\n",
    "labs(x = NULL, y = NULL, title = \"Visualization of Weights\") +\n",
    "theme(legend.position = \"none\")"
   ]
  },
  {
   "cell_type": "markdown",
   "metadata": {},
   "source": [
    "### Prediction and Reconstruction\n",
    "\n",
    "Now, we can select a number in our dataset, pass it through the RBM and see how it is reconstructed versus the real input (how the RBM sees each number)."
   ]
  },
  {
   "cell_type": "code",
   "execution_count": 18,
   "metadata": {
    "collapsed": false
   },
   "outputs": [],
   "source": [
    "act.input <- sigmoid_func(training_x %*% rbm$W + rbm$hbias);\n",
    "rec.input <- act.input %*% t(rbm$W) + rbm$vbias;"
   ]
  },
  {
   "cell_type": "code",
   "execution_count": 19,
   "metadata": {
    "collapsed": false
   },
   "outputs": [
    {
     "data": {
      "image/png": "[encoded data removed]",
      "text/plain": [
       "plot without title"
      ]
     },
     "metadata": {},
     "output_type": "display_data"
    },
    {
     "data": {
      "image/png": "[encoded data removed]",
      "text/plain": [
       "plot without title"
      ]
     },
     "metadata": {},
     "output_type": "display_data"
    }
   ],
   "source": [
    "show_digit(as.matrix(rec.input[5,]))\n",
    "show_digit(as.matrix(training_x[5,]))"
   ]
  }
 ],
 "metadata": {
  "anaconda-cloud": {},
  "kernelspec": {
   "display_name": "R",
   "language": "R",
   "name": "ir"
  },
  "language_info": {
   "codemirror_mode": "r",
   "file_extension": ".r",
   "mimetype": "text/x-r-source",
   "name": "R",
   "pygments_lexer": "r",
   "version": "3.3.2"
  }
 },
 "nbformat": 4,
 "nbformat_minor": 1
}
