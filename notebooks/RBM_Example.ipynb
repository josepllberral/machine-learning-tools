{
 "cells": [
  {
   "cell_type": "markdown",
   "metadata": {},
   "source": [
    "# Using RRBM: Examples of RBM networks\n",
    "\n",
    "1. using the compiled libraries (GSL)\n",
    "2. using the native R libraries"
   ]
  },
  {
   "cell_type": "markdown",
   "metadata": {},
   "source": [
    "#### Load Libraries"
   ]
  },
  {
   "cell_type": "code",
   "execution_count": 1,
   "metadata": {
    "collapsed": true
   },
   "outputs": [],
   "source": [
    "library(rrbm);"
   ]
  },
  {
   "cell_type": "markdown",
   "metadata": {},
   "source": [
    "## RBMs: the MNIST example"
   ]
  },
  {
   "cell_type": "markdown",
   "metadata": {},
   "source": [
    "### Load Dataset\n",
    "\n",
    "* Previously it could be loaded through the RDS package.\n",
    "* Now, it is included in the package datasets as \"mnist\""
   ]
  },
  {
   "cell_type": "code",
   "execution_count": 2,
   "metadata": {
    "collapsed": true
   },
   "outputs": [],
   "source": [
    "# mnist <- readRDS(\"../R tools/datasets/mnist.rds\");\n",
    "data(mnist)"
   ]
  },
  {
   "cell_type": "code",
   "execution_count": 3,
   "metadata": {
    "collapsed": true
   },
   "outputs": [],
   "source": [
    "training_x <- mnist$train$x / 255;\n",
    "training_y <- mnist$train$y;\n",
    "\n",
    "testing_x <- mnist$test$x / 255;\n",
    "testing_y <- mnist$test$y;"
   ]
  },
  {
   "cell_type": "markdown",
   "metadata": {},
   "source": [
    "Let's reduce the dataset size for this example"
   ]
  },
  {
   "cell_type": "code",
   "execution_count": 4,
   "metadata": {},
   "outputs": [],
   "source": [
    "training_x <- training_x[1:1000,, drop=FALSE];\n",
    "training_y <- training_y[1:1000, drop=FALSE];\n",
    "\n",
    "testing_x <- testing_x[1:1000,, drop=FALSE];\n",
    "testing_y <- testing_y[1:1000, drop=FALSE];"
   ]
  },
  {
   "cell_type": "markdown",
   "metadata": {},
   "source": [
    "### Train the RBM"
   ]
  },
  {
   "cell_type": "code",
   "execution_count": 5,
   "metadata": {},
   "outputs": [],
   "source": [
    "rbm_mnist <- train.rbm(n_hidden = 30,\n",
    "                       dataset = training_x,\n",
    "                       learning_rate = 1e-3,\n",
    "                       training_epochs = 10,\n",
    "                       batch_size = 10,\n",
    "                       momentum = 0.5\n",
    ");"
   ]
  },
  {
   "cell_type": "markdown",
   "metadata": {},
   "source": [
    "### Predict using the RBM"
   ]
  },
  {
   "cell_type": "markdown",
   "metadata": {},
   "source": [
    "There are 3 methods: **predict.rbm**, **forward.rbm** and **backward.rbm**\n",
    "\n",
    "* predict.rbm: passes the dataset forward and backward through the RBM"
   ]
  },
  {
   "cell_type": "code",
   "execution_count": 6,
   "metadata": {},
   "outputs": [
    {
     "name": "stdout",
     "output_type": "stream",
     "text": [
      "List of 2\n",
      " $ reconstruction: num [1:1000, 1:784] 2.03e-02 2.25e-03 6.84e-05 2.84e-03 2.59e-04 ...\n",
      " $ activation    : num [1:1000, 1:30] 0.836 0.812 0.652 0.741 0.775 ...\n"
     ]
    }
   ],
   "source": [
    "result <- predict(rbm_mnist, training_x);\n",
    "str(result);"
   ]
  },
  {
   "cell_type": "markdown",
   "metadata": {},
   "source": [
    "* forward.rbm: passes the dataset forward only, returning activations only"
   ]
  },
  {
   "cell_type": "code",
   "execution_count": 7,
   "metadata": {},
   "outputs": [
    {
     "name": "stdout",
     "output_type": "stream",
     "text": [
      " num [1:1000, 1:30] 0.836 0.812 0.652 0.741 0.775 ...\n"
     ]
    }
   ],
   "source": [
    "act1 <- forward.rbm(rbm_mnist, training_x);\n",
    "str(act1);"
   ]
  },
  {
   "cell_type": "markdown",
   "metadata": {},
   "source": [
    "* backward.rbm: passes a set of activations back the RBM, returning the reconstructions"
   ]
  },
  {
   "cell_type": "code",
   "execution_count": 8,
   "metadata": {},
   "outputs": [
    {
     "name": "stdout",
     "output_type": "stream",
     "text": [
      " num [1:1000, 1:784] -8.87e-05 -1.47e-04 2.26e-03 6.55e-04 -6.70e-04 ...\n"
     ]
    }
   ],
   "source": [
    "recons1 <- backward.rbm(rbm_mnist, act1);\n",
    "str(recons1);"
   ]
  },
  {
   "cell_type": "markdown",
   "metadata": {},
   "source": [
    "### Update / Re-train an RBM"
   ]
  },
  {
   "cell_type": "markdown",
   "metadata": {},
   "source": [
    "You can pass a trained RBM as initial values for a new RBM. The properties of the RBM must match with the RBM passed as **init_rbm**. The function returns a new updated copy of the old RBM"
   ]
  },
  {
   "cell_type": "code",
   "execution_count": 9,
   "metadata": {
    "collapsed": true
   },
   "outputs": [],
   "source": [
    "rbm_mnist_update <- train.rbm(n_hidden = 30,\n",
    "                              dataset = training_x,\n",
    "                              learning_rate = 1e-3,\n",
    "                              training_epochs = 10,\n",
    "                              batch_size = 10,\n",
    "                              momentum = 0.5,\n",
    "                              init_rbm = rbm_mnist\n",
    ");"
   ]
  },
  {
   "cell_type": "markdown",
   "metadata": {},
   "source": [
    "## Using the R native functions"
   ]
  },
  {
   "cell_type": "code",
   "execution_count": 10,
   "metadata": {
    "collapsed": true
   },
   "outputs": [],
   "source": [
    "rm (list = ls());"
   ]
  },
  {
   "cell_type": "markdown",
   "metadata": {},
   "source": [
    "### Load the R sources"
   ]
  },
  {
   "cell_type": "code",
   "execution_count": 11,
   "metadata": {},
   "outputs": [],
   "source": [
    "setwd(\"..\");\n",
    "source(\"./rbm.R\");\n",
    "setwd(\"./notebooks\");"
   ]
  },
  {
   "cell_type": "markdown",
   "metadata": {},
   "source": [
    "### Load Dataset"
   ]
  },
  {
   "cell_type": "code",
   "execution_count": 12,
   "metadata": {
    "collapsed": true
   },
   "outputs": [],
   "source": [
    "# mnist <- readRDS(\"../datasets/mnist.rds\");\n",
    "data(mnist)"
   ]
  },
  {
   "cell_type": "code",
   "execution_count": 13,
   "metadata": {
    "collapsed": true
   },
   "outputs": [],
   "source": [
    "training_x <- mnist$train$x / 255;\n",
    "training_y <- mnist$train$y;\n",
    "\n",
    "testing_x <- mnist$test$x / 255;\n",
    "testing_y <- mnist$test$y;"
   ]
  },
  {
   "cell_type": "code",
   "execution_count": 14,
   "metadata": {
    "collapsed": true
   },
   "outputs": [],
   "source": [
    "training_x <- training_x[1:1000,, drop=FALSE];\n",
    "training_y <- training_y[1:1000, drop=FALSE];\n",
    "\n",
    "testing_x <- testing_x[1:1000,, drop=FALSE];\n",
    "testing_y <- testing_y[1:1000, drop=FALSE];"
   ]
  },
  {
   "cell_type": "markdown",
   "metadata": {},
   "source": [
    "### Train the RBM"
   ]
  },
  {
   "cell_type": "code",
   "execution_count": 15,
   "metadata": {},
   "outputs": [
    {
     "name": "stdout",
     "output_type": "stream",
     "text": [
      "[1] \"Training epoch 1, cost is 58.008781882777\"\n",
      "[1] \"Training epoch 2, cost is 51.2308940863924\"\n",
      "[1] \"Training epoch 3, cost is 51.1911011949171\"\n",
      "[1] \"Training epoch 4, cost is 51.1451888321765\"\n",
      "[1] \"Training epoch 5, cost is 51.1976890769631\"\n",
      "[1] \"Training epoch 6, cost is 51.1386957235904\"\n",
      "[1] \"Training epoch 7, cost is 51.1108288625722\"\n",
      "[1] \"Training epoch 8, cost is 51.054386851713\"\n",
      "[1] \"Training epoch 9, cost is 51.0856545143375\"\n",
      "[1] \"Training epoch 10, cost is 51.0706292473888\"\n",
      "[1] \"Training took 1.03504323959351\"\n"
     ]
    }
   ],
   "source": [
    "rbm_mnist <- train_rbm(n_hidden = 30,\n",
    "                       dataset = training_x,\n",
    "                       learning_rate = 1e-3,\n",
    "                       training_epochs = 10,\n",
    "                       batch_size = 10,\n",
    "                       momentum = 0.5\n",
    ");"
   ]
  },
  {
   "cell_type": "markdown",
   "metadata": {},
   "source": [
    "\n",
    "### Predict using the RBM"
   ]
  },
  {
   "cell_type": "markdown",
   "metadata": {},
   "source": [
    "There are 3 methods: **predict_rbm**, **forward_rbm** and **backward_rbm**\n",
    "\n",
    "* predict_rbm: passes the dataset forward and backward through the RBM (in the native version, __predict__ is not an S3 function)"
   ]
  },
  {
   "cell_type": "code",
   "execution_count": 16,
   "metadata": {},
   "outputs": [
    {
     "name": "stdout",
     "output_type": "stream",
     "text": [
      "List of 2\n",
      " $ activations   : num [1:1000, 1:30] 0.806 0.791 0.605 0.779 0.818 ...\n",
      " $ reconstruction: num [1:1000, 1:784] -0.003166 0.000929 -0.001115 0.006736 -0.003092 ...\n"
     ]
    }
   ],
   "source": [
    "result <- predict_rbm(rbm_mnist, training_x);\n",
    "str(result);"
   ]
  },
  {
   "cell_type": "markdown",
   "metadata": {},
   "source": [
    "* forward_rbm: passes the dataset forward only, returning activations only"
   ]
  },
  {
   "cell_type": "code",
   "execution_count": 17,
   "metadata": {},
   "outputs": [
    {
     "name": "stdout",
     "output_type": "stream",
     "text": [
      " num [1:1000, 1:30] 0.806 0.791 0.605 0.779 0.818 ...\n"
     ]
    }
   ],
   "source": [
    "act1 <- forward_rbm(rbm_mnist, training_x);\n",
    "str(act1);"
   ]
  },
  {
   "cell_type": "markdown",
   "metadata": {},
   "source": [
    "* backward_rbm: passes a set of activations back the RBM, returning the reconstructions"
   ]
  },
  {
   "cell_type": "code",
   "execution_count": 18,
   "metadata": {},
   "outputs": [
    {
     "name": "stdout",
     "output_type": "stream",
     "text": [
      " num [1:1000, 1:784] -0.003166 0.000929 -0.001115 0.006736 -0.003092 ...\n"
     ]
    }
   ],
   "source": [
    "recons1 <- backward_rbm(rbm_mnist, act1);\n",
    "str(recons1);"
   ]
  }
 ],
 "metadata": {
  "kernelspec": {
   "display_name": "R",
   "language": "R",
   "name": "ir"
  },
  "language_info": {
   "codemirror_mode": "r",
   "file_extension": ".r",
   "mimetype": "text/x-r-source",
   "name": "R",
   "pygments_lexer": "r",
   "version": "3.4.1"
  }
 },
 "nbformat": 4,
 "nbformat_minor": 1
}
