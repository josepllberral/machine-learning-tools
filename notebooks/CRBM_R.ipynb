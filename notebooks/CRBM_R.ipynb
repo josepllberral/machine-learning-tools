{
 "cells": [
  {
   "cell_type": "markdown",
   "metadata": {},
   "source": [
    "# Conditional Restricted Boltzmann Machines in R\n",
    "\n",
    "### CRBM training and testing algorithms, coded in plain R.\n",
    "\n",
    "Here you can find a Conditional Restricted Boltzmann Machines, implemented in R and in plain algorithm, for academic and educational purposes.\n",
    "\n",
    "@authors Josep Ll. Berral, David Buchaca (Barcelona Supercomputing Center)\n",
    "\n",
    "@date 1st December, 2016 (updated 15th June 2022)\n",
    "\n",
    "### References\n",
    "* Approach based on <a href=\"http://www.uoguelph.ca/~gwtaylor/\">Graham Taylor</a>'s CRBM: http://www.uoguelph.ca/~gwtaylor/publications/nips2006mhmublv/gwtaylor_nips.pdf\n",
    "\n",
    "### Mocap data\n",
    "* R converted version: in datasets folder\n",
    "* Original file: http://www.uoguelph.ca/~gwtaylor/publications/nips2006mhmublv/motion.mat\n",
    "* Data originally from Eugene Hsu, MIT. http://people.csail.mit.edu/ehsu/work/sig05stf/"
   ]
  },
  {
   "cell_type": "markdown",
   "metadata": {},
   "source": [
    "## GENERIC FUNCTIONS\n",
    "\n",
    "We use these functions for initializing matrices (we will initialize the weights matrix with random values), to do Bernoulli sampling when deciding the activation of the hidden layers, and to pass values through a sigmoid function (also when producing the activation outputs).\n",
    "\n",
    "* **sample_normal**: Generates a matrix of random normal values\n",
    "* **sample_bernoulli**: Generates a matrix of Bernoulli samples given a matrix of probabilities\n",
    "* **sigmoid_func**: Performs the sigmoid calculus over a matrix\n",
    "* **%+%**: Operator to sum a vector to a matrix by their coincident side (row checked before columm)"
   ]
  },
  {
   "cell_type": "code",
   "execution_count": 1,
   "metadata": {
    "collapsed": false
   },
   "outputs": [],
   "source": [
    "## Function to produce Normal Samples\n",
    "sample_normal <- function(dims, mean = 0, sd = 1)\n",
    "{\n",
    "    array(rnorm(n = prod(dims), mean = mean, sd = sd), dims);\n",
    "}\n",
    "\n",
    "## Function to produce Bernoulli Samples\n",
    "sample_bernoulli <- function(mat)\n",
    "{\n",
    "    dims <- dim(mat);\n",
    "    array(rbinom(n = prod(dims), size = 1, prob = c(mat)), dims);\n",
    "}\n",
    "\n",
    "## Function to produce the Sigmoid\n",
    "sigmoid_func <- function(mat)\n",
    "{\n",
    "    1 / (1 + exp(-mat));\n",
    "}\n",
    "\n",
    "## Operator to add dimension-wise vectors to matrices\n",
    "`%+%` <- function(mat, vec)\n",
    "{\n",
    "    retval <- NULL;\n",
    "    tryCatch(\n",
    "        expr = { retval <- if (dim(mat)[1] == length(vec)) t(t(mat) + vec) else mat + vec; },\n",
    "        warning = function(w) { print(paste(\"WARNING: \", w, sep = \"\")); },\n",
    "        error = function(e) { print(paste(\"ERROR: Cannot sum mat and vec\", e, sep = \"\\n\")); }\n",
    "    );\n",
    "    retval;\n",
    "}"
   ]
  },
  {
   "cell_type": "markdown",
   "metadata": {},
   "source": [
    "## CRBM Functions\n",
    "\n",
    "Functions for creating and operating CRBMs:\n",
    "\n",
    "* **create_crbm**: The constructor function\n",
    "* **free_energy_crbm**: The target cost function\n",
    "* **sample_h_given_v_crbm**: Activation function given input\n",
    "* **sample_v_given_h_crbm**: Reconstruction function given activations\n",
    "* **get_cost_updates_crbm**: One step of Contrastive Divergence (CD-k) process updating the CRBM"
   ]
  },
  {
   "cell_type": "markdown",
   "metadata": {},
   "source": [
    "### Constructor of the CRBM\n",
    "\n",
    "This is the **constructor** of the CRBM. This will initialize the CRBM with random and blank values, or with introduced parameters. If we want to create a new CRBM, we skip passing parameters to have a brand new initialized CRBM. If we want to reassemble a former CRBM from its weights matrices and bias vectors, we pass them as parameters.\n",
    "\n",
    "The principal elements of the CRBM are:\n",
    "* **W** : The weight matrix between Visble Input and Hidden Units\n",
    "* **B** : The weight matrix between Visible History and Hidden Units\n",
    "* **A** : The weight matrix between Visible History and Visible Units\n",
    "* **hbias** : The hidden bias.\n",
    "* **vbias** : The visible bias.\n",
    "\n",
    "The CRBM produces Hidden Unit activations from Visible Inputs through $(vis \\cdot W + vhist \\cdot B + hbias)$, and reconstructs the Visible Units from Hidden activations through $(hid \\cdot W^{T} + vhist \\cdot A + vbias)$. This way, Visible Inputs go through the \"network\" producing activations, and activations can be passed back through the \"network\" to reconstruct the Inputs. The difference between real Inputs and reconstructed Inputs are the _error_ or _loss_.\n",
    "\n",
    "#### Dimension and purpose of Matrices\n",
    "\n",
    "The matrices **W**, **B** and **A**, and vectors **hbias** and **vbias** will be initialized as random or just blank, and modified using the **Gradient Descent** technique with to the obtained loss at each iteration.\n",
    "\n",
    "Input comes from Visible Units (the input has _nvis_ features at time _t_), and the previous history (the history has _nvis_ features for _t-1_ to _t-d_, being _d_ the history window size). So **Input** is a matrix $1 \\times nvis$ and **History** should be a matrix $nvis \\times d$. As we can put data in batches, the **Input** becomes $batch\\_size \\times nvis$ and **History** is $batch\\_size \\times nvis \\times d$. In order to deal with 2 dimension matrices, we can flatten **History** into $batch\\_size \\times nvis \\cdot d$, so each row has the history of the corresponding batch unit (a vector of $nvis \\cdot d$ elements).\n",
    "\n",
    "The Output (the hidden units) will be then a matrix with the number of hidden units for each element of the batch. So **Activations** will be a matrix $batch\\_size \\times nhid$.\n",
    "\n",
    "Then, **W** transforms **Input** into **Activations** (partially), so **W** is a matrix shaped as $nvis \\times nhid$.\n",
    "Also, **B** transforms **History** into **Activations** (partially), so **B**  is a matrix shaped as $nvis \\cdot d \\times nhid$. Finally, **A** transforms **History** into **Inputs** (partially) for reconstruction, so **A** is a matrix shaped as $nvis \\cdot d \\times nvis$. Not to say that transposing **W** will allow us to transform **Activations** into **Inputs** (partially).\n",
    "\n",
    "Summary of Matrices:\n",
    "* **Input** : $batch\\_size \\times nvis$\n",
    "* **History** : $batch\\_size \\times nvis \\cdot d$\n",
    "\n",
    "* **W** : $nvis \\times nhid$\n",
    "* **B** : $nvis \\cdot d \\times nhid$\n",
    "* **A** : $nvis \\cdot d \\times nvis$\n",
    "\n",
    "* **Activations** : $batch\\_size \\times nhid$\n",
    "\n",
    "#### Dimension of bias Vectors\n",
    "\n",
    "Further, when obtaining the **Activations**, we should add the bias for each feature in the obtained activation. Then **hbias** has to be a vector of size $nhid$. R allows us to add a vector repeatedly to all the rows of a matrix. If we couldn't, **hbias** should become a matrix of the same vector, repeated $batch\\_size$ times.\n",
    "\n",
    "The same happens when reconstructing the **Input** from **Activations** and **History**. A **vbias** vector, of size $nvis$ must be added to the resulting reconstruction."
   ]
  },
  {
   "cell_type": "code",
   "execution_count": 2,
   "metadata": {
    "collapsed": true
   },
   "outputs": [],
   "source": [
    "## Conditional Restricted Boltzmann Machine (CRBM). Constructor\n",
    "create_crbm <- function (n_visible = 49, n_hidden = 100, delay = 6, A = NULL, B = NULL, W = NULL,\n",
    "                         hbias = NULL, vbias = NULL, batch_size = 100)\n",
    "{\n",
    "    if (is.null(W)) W <- 0.01 * sample_normal(c(n_visible, n_hidden));\n",
    "    if (is.null(A)) A <- 0.01 * sample_normal(c(n_visible * delay, n_visible));\n",
    "    if (is.null(B)) B <- 0.01 * sample_normal(c(n_visible * delay, n_hidden));\n",
    "\n",
    "    if (is.null(hbias)) hbias <- rep(0, n_hidden);\n",
    "    if (is.null(vbias)) vbias <- rep(0, n_visible);\n",
    "\n",
    "    velocity <- list(W = array(0, dim(W)), A = array(0, dim(A)), B = array(0, dim(B)),\n",
    "            v = rep(0, length(vbias)), h = rep(0, length(hbias)));\n",
    "\n",
    "    list(n_visible = n_visible, n_hidden = n_hidden, delay = delay, W = W,\n",
    "            A = A, B = B, hbias = hbias, vbias = vbias, velocity = velocity,\n",
    "            batch_size = batch_size);\n",
    "}"
   ]
  },
  {
   "cell_type": "markdown",
   "metadata": {},
   "source": [
    "### Free-Energy function\n",
    "\n",
    "This is the **free energy function**. We will not use it mores than to display its value. It implements the following:\n",
    "\n",
    "$$wxb \\leftarrow (visible\\_state \\cdot W + visible\\_history \\cdot B) + hidden\\_bias$$\n",
    "$$hidden\\_term \\leftarrow \\sum_{j = 1}^{nrows} [log(1 + exp(wxb))]_j$$\n",
    "\n",
    "$$axb \\leftarrow (visible\\_history \\cdot A) + visible\\_bias$$\n",
    "$$visible\\_term \\leftarrow \\sum_{j = 1}^{nrows} [\\frac{1}{2} \\cdot (visible\\_state - axb)^2]_j$$\n",
    "\n",
    "$$free\\_energy \\leftarrow visible\\_term - hidden\\_term$$"
   ]
  },
  {
   "cell_type": "code",
   "execution_count": 3,
   "metadata": {
    "collapsed": true
   },
   "outputs": [],
   "source": [
    "## Function to compute the free energy of a sample conditional on the history\n",
    "free_energy_crbm <- function(crbm, visible_state, v_history)\n",
    "{\n",
    "    wx_b <- (visible_state %*% crbm$W + v_history %*% crbm$B) %+% crbm$hbias;\n",
    "    ax_b <- (v_history %*% crbm$A) %+% crbm$vbias;\n",
    "    visible_term <- rowSums(0.5 * `^`(visible_state - ax_b,2));\n",
    "    hidden_term <- rowSums(log(1 + exp(wx_b)));\n",
    "\n",
    "    (visible_term - hidden_term);\n",
    "}"
   ]
  },
  {
   "cell_type": "markdown",
   "metadata": {},
   "source": [
    "### Forward and Backward Functions\n",
    "\n",
    "The next couple of functions implement the generation of hidden unit activations given visible values, and reconstruction of visible values from hidden activations. The learning process will use these functions to pass visible values forward and backward, to check the loss and gradients of the activation-reconstruction process.\n",
    "\n",
    "#### Forwarding Inputs to Hidden Units\n",
    "\n",
    "As said before, activation (or forwarding) is done by passing inputs and history towards the hidden units. The transformation is done using **Input** and **History**, through **W** and **B** (and **hbias**), obtaining **Activations**.\n",
    "\n",
    "$$pre\\_activations = input \\cdot W + history \\cdot B + hbias$$\n",
    "\n",
    "In order to correctly produce the activations, we should pass them through a sigmoid function [TODO - Explain details and reasoning for this step].\n",
    "\n",
    "$$mean\\_activations = sigmoid(pre\\_activations)$$\n",
    "\n",
    "And finally, instead of having for each unit its mean of activations, we may generate a sample of \"fully activated\" and \"fully deactivated\" hidden units, by performing a bernoully sampling. This way, each $mean\\_activation$ is used as the probability of whether the hidden unit is activated or not. The result is a fully binarized activations, conditioned to the probability of each unit to become activated or not (the \"expected activation\" that we obtained through the \"mean activation\").\n",
    "\n",
    "$$sample\\_activations = bernoully(mean\\_activations)$$\n",
    "\n",
    "#### Backwarding Activations to Visible Units\n",
    "\n",
    "When we have the activations for a given batch of input data, we can perform the reconstruction (backward) process, by passing the activations and history towards the input data. The transformation is done using **Activations** and **History**, through **t(W)** and **A** (and **vbias**), obtaining **~Input**.\n",
    "\n",
    "$$mean\\_reconstruction = activation \\cdot W^{T} + history \\cdot A + vbias$$\n",
    "\n",
    "Also, we don't need any sampling here, as we are deciding that:\n",
    "\n",
    "$$sample\\_reconstruction = mean\\_reconstruction$$"
   ]
  },
  {
   "cell_type": "code",
   "execution_count": 4,
   "metadata": {
    "collapsed": true
   },
   "outputs": [],
   "source": [
    "### This function infers state of hidden units given visible units\n",
    "sample_h_given_v_crbm <- function(crbm, visible_state, v_history)\n",
    "{\n",
    "    h.mean <- sigmoid_func((visible_state %*% crbm$W + v_history %*% crbm$B) %+% crbm$hbias);\n",
    "    h.sample <- sample_bernoulli(h.mean);\n",
    "\n",
    "    list(mean = h.mean, sample = h.sample);\n",
    "}\n",
    "\n",
    "## This function infers state of visible units given hidden units\n",
    "sample_v_given_h_crbm <- function(crbm, hidden_state, v_history)\n",
    "{\n",
    "    v.mean <- (hidden_state %*% t(crbm$W) + v_history %*% crbm$A) %+% crbm$vbias;\n",
    "    v.sample <- v.mean;\n",
    "\n",
    "    list(mean = v.mean, sample = v.sample);\n",
    "}"
   ]
  },
  {
   "cell_type": "markdown",
   "metadata": {},
   "source": [
    "### Iterate over inputs to get Cost and Gradients\n",
    "\n",
    "The \"forward - backward\" process must be done iteratively, in order to see how our matrices **W**, **B** and **A** (also bias vectors **hbias** and **vbias**) degrade our input after repeated \"activation - reconstruction\" processes. This is done using the **Contrastive Divergence** method, where we perform this process $k$ times, and then we compute the **Gradient Descent**.\n",
    "\n",
    "#### Obtaining the Gradients\n",
    "The process performs a **positive phase**, where a forward is performed. Then we iterate \"backward - forward\" (**negative phase**) $k$ times.\n",
    "\n",
    "The key elements at the end of the process are:\n",
    "* The Input, as the data we want to reconstruct\n",
    "* The History, as the conditioning of activation (and reconstruction)\n",
    "* The \"Positive\" Activations, as the activations we get directly, before iterating.\n",
    "* The \"Negative\" Activations, as the final activations we obtain after iterating.\n",
    "* The \"Negative\" Reconstruction, as the final values we obtain when reconstructing the input from the last activation.\n",
    "\n",
    "Gradients are computed for each Matrix, as follows:\n",
    "* **grad_W** : $\\Delta W = input^{T} \\cdot (positive)mean\\_activation - (negative)mean\\_reconstruction^{T} \\cdot (negative)mean\\_activation$\n",
    "* **grad_A** : $\\Delta A = history^{T} \\cdot input - history^{T} \\cdot (negative)mean\\_reconstruction$\n",
    "* **grad_B** : $\\Delta B = history^{T} \\cdot (positive)mean\\_activation - history^{T} \\cdot (negative)mean\\_activation$\n",
    "* **grad_vbias** : $\\Delta vbias = colSum(input \\cdot (negative)mean\\_reconstruction)$\n",
    "* **grad_hbias** : $\\Delta hbias = colSum((positive)mean\\_activation \\cdot (negative)mean\\_activation)$\n",
    "\n",
    "Remember that all deltas must be scaled by the **learning rate**, and the **batch size**. Also, we can decide whether to add an **inertia** factor (or **momentum**), by storing the gradient and using it in the next iteration within a certain weight. Finally, we add the gradients to our matrices and vectors.\n",
    "\n",
    "#### Reconstruction Error (Cost)\n",
    "\n",
    "Computing the reconstruction error allows us to know how well our training is improving epoch after epoch. Here we compute the **cost** as\n",
    "\n",
    "$$cost = \\frac{\\sum_{i = 1}^{ncols} \\sum_{j = 1}^{nrows} (input - (negative)mean\\_reconstruction)^2}{ncols}$$\n",
    "\n",
    "or what is the same, the mean error between the inputs and the last reconstruction.\n"
   ]
  },
  {
   "cell_type": "code",
   "execution_count": 5,
   "metadata": {
    "collapsed": true
   },
   "outputs": [],
   "source": [
    "## This functions implements one step of CD-k\n",
    "##  param input: matrix input from batch data (n_seq x n_vis)\n",
    "##  param input_hist: matrix input_history from batch data (n_seq x (n_vis * delay))\n",
    "##  param lr: learning rate used to train the RBM\n",
    "##  param k: number of Gibbs steps to do in CD-k\n",
    "##  param momentum: value for momentum coefficient on learning\n",
    "##  We assume sigma = 1 when computing deltas\n",
    "get_cost_updates_crbm <- function(crbm, input, input_history, lr, k = 1, momentum = 0.1)\n",
    "{\n",
    "    # compute positive phase (awake)\n",
    "    ph <- sample_h_given_v_crbm(crbm, input, input_history);\n",
    "\n",
    "    # perform negative phase (asleep)\n",
    "    nh <- ph;\n",
    "    for (i in 1:k)\n",
    "    {\n",
    "        nv <- sample_v_given_h_crbm(crbm, nh[[\"sample\"]], input_history);\n",
    "        nh <- sample_h_given_v_crbm(crbm, nv[[\"sample\"]], input_history);\n",
    "    }\n",
    "\n",
    "#   cost <- mean(free_energy_crbm(crbm, input, input_history)) -\n",
    "#           mean(free_energy_crbm(crbm, nv[[\"sample\"]], input_history));\n",
    "\n",
    "    # determine gradients on CRBM parameters\n",
    "    Delta_W <- t(input) %*% ph[[\"mean\"]] - t(nv[[\"sample\"]]) %*% nh[[\"mean\"]];\n",
    "    Delta_v\t<- colSums(input - nv[[\"sample\"]]);\n",
    "    Delta_h <- colSums(ph[[\"mean\"]] - nh[[\"mean\"]]);\n",
    "    Delta_A <- t(input_history) %*% input - t(input_history) %*% nv[[\"sample\"]];\n",
    "    Delta_B <- t(input_history) %*% ph[[\"mean\"]] - t(input_history) %*% nh[[\"mean\"]];\n",
    "\n",
    "    crbm$velocity[[\"W\"]] <- crbm$velocity[[\"W\"]] * momentum + lr * Delta_W / crbm$batch_size;\n",
    "    crbm$velocity[[\"A\"]] <- crbm$velocity[[\"A\"]] * momentum + lr * Delta_A / crbm$batch_size;\n",
    "    crbm$velocity[[\"B\"]] <- crbm$velocity[[\"B\"]] * momentum + lr * Delta_B / crbm$batch_size;\n",
    "    crbm$velocity[[\"v\"]] <- crbm$velocity[[\"v\"]] * momentum + lr * Delta_v / crbm$batch_size;\n",
    "    crbm$velocity[[\"h\"]] <- crbm$velocity[[\"h\"]] * momentum + lr * Delta_h / crbm$batch_size;\n",
    "\n",
    "    # update weights\n",
    "    crbm$W <- crbm$W + crbm$velocity[[\"W\"]];\n",
    "    crbm$A <- crbm$A + crbm$velocity[[\"A\"]];\n",
    "    crbm$B <- crbm$B + crbm$velocity[[\"B\"]];\n",
    "    crbm$vbias <- crbm$vbias + crbm$velocity[[\"v\"]];\n",
    "    crbm$hbias <- crbm$hbias + crbm$velocity[[\"h\"]];\n",
    "\n",
    "    # approximation to the reconstruction error: sum over dimensions, mean over cases\n",
    "    list(crbm = crbm, recon = mean(rowSums(`^`(input - nv[[\"mean\"]],2))));\n",
    "}"
   ]
  },
  {
   "cell_type": "markdown",
   "metadata": {},
   "source": [
    "## How to train your CRBM\n",
    "\n",
    "Functions to train a CRBM from a loaded DataSet:\n",
    "\n",
    "* **train_crbm**: Creates and trains a CRBM from a given dataset\n",
    "\n",
    "### Training the CRBM\n",
    "\n",
    "This process implies getting batches of data, and passing them through the **Contrastive Divergence** process, seen before, until we reach a given number of **epochs**.\n",
    "\n",
    "Notice that our input dataset can contain **sequences**, so we should take care that, when we construct the **history** of a given sample, we are not mixing samples belonging to a previous sequence.\n",
    "\n",
    "Also, we may decide that providing the data in the same order as we got (probably ordered in time for each sequence), may be dangerous for learning. We can shuffle the order in which we pick samples when building the batches (not shuffling all data, or we would lose the history information).\n",
    "\n",
    "The return of the training is the CRBM, or what is the same, the collection of weight matrices and vectors **W**, **B**, **A**, **hbias** and **vbias**."
   ]
  },
  {
   "cell_type": "code",
   "execution_count": 6,
   "metadata": {
    "collapsed": true
   },
   "outputs": [],
   "source": [
    "## Function to train the CRBM\n",
    "##  param learning_rate: learning rate used for training the CRBM\n",
    "##  param training_epochs: number of epochs used for training\n",
    "##  param dataset: loaded dataset <batchdata, seqlen, data_mean, data_std> for Motion\n",
    "##  param batch_size: size of a batch used to train the CRBM\n",
    "train_crbm <- function (dataset, learning_rate = 1e-3, momentum = 0.5, training_epochs = 300,\n",
    "            batch_size = 100, n_hidden = 100, delay = 6, rand_seed = 1234,\n",
    "            init_A = NULL, init_B = NULL, init_W = NULL, init_hbias = NULL, init_vbias = NULL)\n",
    "{\n",
    "    set.seed(rand_seed);\n",
    "\n",
    "    # prepare indexes for dataset\n",
    "    batchdata <- dataset$batchdata;\n",
    "    seqlen <- dataset$seqlen;\n",
    "\n",
    "    # compute number of minibatches for training, validation and testing\n",
    "    n_train_batches <- ceiling(nrow(batchdata) / batch_size);\n",
    "    n_dim <- ncol(batchdata);\n",
    "\n",
    "    # valid starting indices\n",
    "    batchdataindex <- NULL;\n",
    "    last <- 1;\n",
    "    for (s in seqlen)\n",
    "    {\n",
    "        batchdataindex <- c(batchdataindex, (last + delay):(last + s - 1));\n",
    "        last <- last + s;\n",
    "    }\n",
    "    permindex <- batchdataindex[sample(1:length(batchdataindex),length(batchdataindex))];\n",
    "\n",
    "    # construct the CRBM object\n",
    "    crbm <- create_crbm(n_visible = n_dim, n_hidden = n_hidden, delay = delay, batch_size = batch_size,\n",
    "                        A = init_A, B = init_B, W = init_W, hbias = init_hbias, vbias = init_vbias);\n",
    "\n",
    "    start_time <- Sys.time();\n",
    "\n",
    "    # go through the training epochs\n",
    "    for (epoch in 1:training_epochs)\n",
    "    {\n",
    "        # go through the training set\n",
    "        mean_cost <- NULL;\n",
    "\n",
    "        for (batch_index in 1:n_train_batches)\n",
    "        {\n",
    "            # linear index to the starting frames for this batch\n",
    "            idx.aux.ini <- (((batch_index - 1) * batch_size) + 1);\n",
    "            idx.aux.fin <- (batch_index * batch_size);\n",
    "            if (idx.aux.fin > length(permindex)) break;\n",
    "            data_idx <- permindex[idx.aux.ini:idx.aux.fin];\n",
    "\n",
    "            # linear index to the frames at each delay tap\n",
    "            hist_idx <- c(t(sapply(1:delay, function(x) data_idx - x)));\n",
    "\n",
    "            # update the CRBM parameters\n",
    "            input <- batchdata[data_idx,];\n",
    "            input_history <- t(array(c(t(batchdata[hist_idx,])), c(delay * n_dim, batch_size)));\n",
    "\n",
    "            # get the cost and the gradient corresponding to one step of CD-k\n",
    "            aux <- get_cost_updates_crbm(crbm, input, input_history, lr = learning_rate, momentum = momentum, k = 1);\n",
    "\n",
    "            this_cost <- aux$recon;\n",
    "            crbm <- aux$crbm;\n",
    "\n",
    "            mean_cost <- c(mean_cost, this_cost);\n",
    "        }\n",
    "        if (epoch %% 50 == 1) print(paste('Training epoch ',epoch,', cost is ',mean(mean_cost, na.rm = TRUE),sep=\"\"));\n",
    "    }\n",
    "\n",
    "    end_time <- Sys.time();\n",
    "    print(paste('Training took', (end_time - start_time), sep = \" \"));\n",
    "\n",
    "    class(crbm) <- c(\"crbm\", class(crbm));\n",
    "    crbm;\n",
    "}"
   ]
  },
  {
   "cell_type": "markdown",
   "metadata": {},
   "source": [
    "## Predicting Values\n",
    "\n",
    "Functions to predict a sequence from a CRBM:\n",
    "\n",
    "* **forecast_crbm** (a.k.a. generate_crbm): Generates _n_ samples from an input and some history using a CRBM\n",
    "\n",
    "### Value Prediction\n",
    "\n",
    "When we predict values, we just apply the \"input to activation\" process, by performing a \"forward\" operation\n",
    "\n",
    "$$pre\\_activations = input \\cdot W + history \\cdot B + hbias$$\n",
    "$$mean\\_activations = sigmoid(pre\\_activations)$$\n",
    "$$sample\\_activations = bernoully(mean\\_activations)$$\n",
    "\n",
    "Also here, we can decide to perform a **Gibbs sampling**, thats iterating the \"forward - backward\" process, to see which activations result after $k$ iterations (like we did in the **Contrastive Divergence** method).\n",
    "\n",
    "To predict several steps away from our current data, we just have to predict the activations (and reconstructions) at time $t + 1$, then add sample $t$ into history and sample $t+1$ as \"new input\". We would expect that in long term, predicting would degrade, but experiments have shown that trends on time series are maintained well enough."
   ]
  },
  {
   "cell_type": "code",
   "execution_count": 7,
   "metadata": {
    "collapsed": true
   },
   "outputs": [],
   "source": [
    "## Given initialization(s) of visibles and matching history, generate n_samples in future.\n",
    "##  orig_data : n_seq by n_visibles array, initialization for first frame\n",
    "##  orig_history : n_seq by delay * n_visibles array, delay-step history\n",
    "##  n_samples : int, number of samples to generate forward\n",
    "##  n_gibbs : int, number of alternating Gibbs steps per iteration\n",
    "forecast_crbm <- function(crbm, orig_data, orig_history, n_samples, n_gibbs = 30)\n",
    "{\n",
    "    n_seq <- nrow(orig_data);\n",
    "\n",
    "    persistent_vis_chain <<- orig_data;\n",
    "    persistent_history <<- orig_history;\n",
    "\n",
    "        # construct the function that implements our persistent chain.\n",
    "    sample_fn <- function(crbm, n_gibbs)\n",
    "    {\n",
    "        vis_sample <- persistent_vis_chain;\n",
    "        v_history <- persistent_history;\n",
    "\n",
    "        vis_mf <- NULL;\n",
    "        for (k in 1:n_gibbs)\n",
    "        {\n",
    "            hid <- sample_h_given_v_crbm(crbm, vis_sample, v_history);\n",
    "            vis <- sample_v_given_h_crbm(crbm, hid[[\"sample\"]], v_history);\n",
    "\n",
    "            vis_mf <- vis[[\"mean\"]];\n",
    "            vis_sample <- vis[[\"sample\"]];\n",
    "        }\n",
    "\n",
    "        # add to updates the shared variable that takes care of our persistent chain\n",
    "        persistent_vis_chain <<- vis_sample;\n",
    "        persistent_history <<- cbind(vis_sample, persistent_history[,1:((crbm$delay - 1) * crbm$n_visible), drop = FALSE]);\n",
    "\n",
    "        vis_mf;\n",
    "    }\n",
    "\n",
    "    generated_series <- array(0,c(n_seq, n_samples, crbm$n_visible));\n",
    "    for (t in 1:n_samples)\n",
    "    {\n",
    "        #if (t %% 10 == 1) print(paste(\"Generating frame \", t, \" to \", min(t+9, n_samples), sep = \"\"));\n",
    "        generated_series[,t,] <- sample_fn(crbm, n_gibbs);\n",
    "    }\n",
    "    generated_series;\n",
    "}"
   ]
  },
  {
   "cell_type": "markdown",
   "metadata": {},
   "source": [
    "## An example: The Motion Dataset\n",
    "\n",
    "We are testing now the CRBM with a fragment of the Motion Dataset, from Eugene Hsu [Styles of Human Motion](http://people.csail.mit.edu/ehsu/work/sig05stf/); a dataset capturing human motion from different body sensors (108 features), from different styles of walking. As we are not using the full dataset, we are using the fragment that Graham Taylor used in his works when validating CRBMs [here](http://www.uoguelph.ca/~gwtaylor/publications/nips2006mhmublv/motion.mat). \n",
    "\n",
    "As the source of data is a MatLab file, we converted it previously into a RDS one, so it can be directly read."
   ]
  },
  {
   "cell_type": "markdown",
   "metadata": {},
   "source": [
    "### Load Data\n",
    "\n",
    "Functions to load data from a file name (for Motion example):\n",
    "\n",
    "* **load_data**: Loads a motion.rds containing the Motion example data. The Motion example must be converted from Matlab format to RDS\n",
    "\n",
    "This function will read **motion.rds** and return a list with:\n",
    "* **batchdata** : A matrix containing the sequences. Notice that values will be mormalized using the mean and standard deviation for each feature.\n",
    "* **seqlen** : A vector indicating the lengths of the sequences in batchdata.\n",
    "* **data_mean** : A vector containing the averages for each feature.\n",
    "* **data_std** : A vector containing the standard deviations for each feature."
   ]
  },
  {
   "cell_type": "code",
   "execution_count": 8,
   "metadata": {
    "collapsed": false
   },
   "outputs": [],
   "source": [
    "## Function to Load and Preprocess the Motion Example Data.\n",
    "##  :param filename: The URI of the motion.rds file with the matrix structure from Motion\n",
    "##  :return list: <batchdata, seqlen, data_mean, data_std>\n",
    "##  Source: TODO - motion.rds (version of motion.mat converted into R Data Storage format)\n",
    "load_data <- function(filename)\n",
    "{\n",
    "    mat_dict <- readRDS(filename);\n",
    "    Motion <- mat_dict[['Motion']];\n",
    "\n",
    "    n_seq <- length(Motion);\n",
    "\n",
    "    # assume data is MIT format for now\n",
    "    indx <- c(1:9, 14, 19:21, 26, 31:33, 38, 43:45, 50, 55:57, 61:63, 67:69, 73:75,\n",
    "                79:81, 85:87, 91:93, 97:99, 103:105);\n",
    "\n",
    "    ##row1 <- Motion[[c(1,1)]][1,];\n",
    "    ##offsets <- array(row1[c(10:12, 16:18, 22:24, 28:30, 34:36, 40:42, 46:48, 52:54,\n",
    "    ##            58:60, 64:66, 70:72, 76:78, 82:84, 88:90, 94:96, 100:102,\n",
    "    ##            106:108)], c(3, length(row1)/3) );\n",
    "\n",
    "    # collapse sequences\n",
    "    batchdata <- rbind(Motion[[c(1,1)]][,indx],\n",
    "                       Motion[[c(2,1)]][,indx],\n",
    "                       Motion[[c(3,1)]][,indx]);\n",
    "    data_mean <- colMeans(batchdata);\n",
    "    data_std <- apply(batchdata, 2, sd);\n",
    "\n",
    "    batchdata <- t((t(batchdata) - data_mean) / data_std);\n",
    "\n",
    "    # get sequence lengths\n",
    "    seqlen <- sapply(1:3, function(x) nrow(Motion[[c(x,1)]]));\n",
    "\n",
    "    list(batchdata = batchdata, seqlen = seqlen, data_mean = data_mean, data_std = data_std);\n",
    "}"
   ]
  },
  {
   "cell_type": "markdown",
   "metadata": {},
   "source": [
    "### Main Program\n",
    "\n",
    "Example using the Motion dataset.\n",
    "\n",
    "First we read the data, and train the CRBM"
   ]
  },
  {
   "cell_type": "code",
   "execution_count": 9,
   "metadata": {
    "collapsed": false
   },
   "outputs": [
    {
     "name": "stdout",
     "output_type": "stream",
     "text": [
      "[1] \"Training epoch 1, cost is 26.9140663163529\"\n",
      "[1] \"Training epoch 51, cost is 5.66116568699741\"\n",
      "[1] \"Training epoch 101, cost is 5.09535731985935\"\n",
      "[1] \"Training epoch 151, cost is 4.86474796826722\"\n",
      "[1] \"Training epoch 201, cost is 4.79454811166049\"\n",
      "[1] \"Training epoch 251, cost is 4.76439281288842\"\n",
      "[1] \"Training took 1.4177915930748\"\n"
     ]
    }
   ],
   "source": [
    "# Load data and create the CRBM\n",
    "dataset <- load_data('../R tools/datasets/motion.rds');             # List <batchdata, seqlen, data_mean, data_std>\n",
    "crbm <- train_crbm(dataset);                                        # Trained CRBM"
   ]
  },
  {
   "cell_type": "markdown",
   "metadata": {},
   "source": [
    "Once trained, we can pass some data sequences, to test how they are forecasted."
   ]
  },
  {
   "cell_type": "code",
   "execution_count": 10,
   "metadata": {
    "collapsed": true
   },
   "outputs": [],
   "source": [
    "# Generate some sequences (in parallel) from CRBM\n",
    "# Using training data as initialization\n",
    "\n",
    "batchdata <- dataset$batchdata;                                     # DIMS - Motion.mat (3826, 49)\n",
    "\n",
    "# pick some starting points for each sequence\n",
    "data_idx <- c(100, 200, 400, 600);\n",
    "orig_data <- batchdata[data_idx,];                                  # DIMS - Motion.mat (3826, data_idx.length)\n",
    "\n",
    "hist_idx <- c(sapply(data_idx, function(x) x - 1:crbm$delay));\n",
    "orig_history <- t(array(as.vector(t(batchdata[hist_idx,])), c(crbm$delay * crbm$n_visible, length(data_idx))));"
   ]
  },
  {
   "cell_type": "code",
   "execution_count": 11,
   "metadata": {
    "collapsed": false
   },
   "outputs": [],
   "source": [
    "generated_series.aux <- forecast_crbm(crbm, orig_data, orig_history, n_samples = 100, n_gibbs = 30);\n",
    "\n",
    "# append initialization\n",
    "library(abind)\n",
    "oh.temp <- aperm(array(as.vector(orig_history), c(length(data_idx), crbm$n_visible, crbm$delay)),c(1,3,2));\n",
    "generated_series <- abind(oh.temp[,crbm$delay:1,], generated_series.aux, along = 2);"
   ]
  },
  {
   "cell_type": "markdown",
   "metadata": {},
   "source": [
    "Also we plot them (or some of their variables)"
   ]
  },
  {
   "cell_type": "code",
   "execution_count": 12,
   "metadata": {
    "collapsed": false
   },
   "outputs": [
    {
     "data": {
      "image/png": "[encoded data removed]",
      "text/plain": [
       "plot without title"
      ]
     },
     "metadata": {},
     "output_type": "display_data"
    }
   ],
   "source": [
    "#plot first dimension of each sequence\n",
    "par(mfrow = c(length(data_idx) ,1));\n",
    "for (i in 1:length(data_idx))\n",
    "{\n",
    "    start <- data_idx[i];\n",
    "    \n",
    "    plot.true <- batchdata[(start - crbm$delay):(start + 100), 2];\n",
    "    plot.pred <- generated_series[i,, 2];\n",
    "\n",
    "    plot(plot.true, col = \"blue\", type = \"l\", lty = 2, xlab = \"\", ylab = data_idx[i], xlim = c(-10,100), ylim = c(min(plot.true, plot.pred),max(plot.true, plot.pred)));\n",
    "    lines(plot.pred, col = \"green\");\n",
    "    legend(\"topleft\", legend = c(\"True\", \"Predicted\"), col = c(\"blue\",\"green\"), lty = c(2,1), cex = 0.75, y.intersp = 1);\n",
    "}"
   ]
  }
 ],
 "metadata": {
  "kernelspec": {
   "display_name": "R",
   "language": "R",
   "name": "ir"
  },
  "language_info": {
   "codemirror_mode": "r",
   "file_extension": ".r",
   "mimetype": "text/x-r-source",
   "name": "R",
   "pygments_lexer": "r",
   "version": "3.3.2"
  }
 },
 "nbformat": 4,
 "nbformat_minor": 1
}
